{
 "cells": [
  {
   "cell_type": "code",
   "execution_count": 1,
   "id": "38570041",
   "metadata": {},
   "outputs": [],
   "source": [
    "#THIS IS BASICS FOR PYHTON TKINTER AND ITS MODULES, THIS WILL MAKE IT EASY FOR YOU TO UNDERSTAND BASIC THEORY AND CONCEPTS OF PYTHON TKINTER WHICH IS USED FOR MAKING GUI\n",
    "#THIS CODES ARE CONTRIBUTED BY MR. SAURABH KALE DATED 18 OCTOBER 2023\n",
    "\n",
    "#IMPORTING TKINTER AND ESSENTIALS MODULES FOR THE SAME\n",
    "import tkinter as tk\n",
    "from tkinter import PhotoImage\n",
    "from PIL import Image, ImageTk"
   ]
  },
  {
   "cell_type": "code",
   "execution_count": null,
   "id": "d5f9272e",
   "metadata": {},
   "outputs": [],
   "source": []
  },
  {
   "cell_type": "code",
   "execution_count": null,
   "id": "8f55dc40",
   "metadata": {},
   "outputs": [],
   "source": []
  },
  {
   "cell_type": "code",
   "execution_count": 2,
   "id": "d2118a64",
   "metadata": {},
   "outputs": [],
   "source": [
    "#THIS IS THE BASIC CODE STRUCTURE FOR CREATING A GUI USING TKINTER\n",
    "\n",
    "#CREATE MAIN APPLICATION WINDOW \n",
    "root = tk.Tk()\n",
    "#WRITE YOUR CODE HERE.....\n",
    "\n",
    "\n",
    "#START THE MAIN EVENT\n",
    "root.mainloop()"
   ]
  },
  {
   "cell_type": "code",
   "execution_count": null,
   "id": "37a869a4",
   "metadata": {},
   "outputs": [],
   "source": []
  },
  {
   "cell_type": "code",
   "execution_count": 3,
   "id": "27ab2f81",
   "metadata": {},
   "outputs": [],
   "source": [
    "#CREATE MAIN APPLICATION WINDOW\n",
    "root = tk.Tk()\n",
    "root.title(\"THIS A TKINTER EXAMPLE\")\n",
    "\n",
    "#CREATE A LABEL WIDGET\n",
    "label = tk.Label(root,text=\"HELLO THIS IS TKINTER\")\n",
    "label.pack()\n",
    "\n",
    "#CREATE A CLICK ME BUTTON\n",
    "button = tk.Button(root,text=\"CLICK ME \")\n",
    "button.pack()\n",
    "\n",
    "#START THE MAIN EVENT\n",
    "root.mainloop()"
   ]
  },
  {
   "cell_type": "code",
   "execution_count": null,
   "id": "74e78b8d",
   "metadata": {},
   "outputs": [],
   "source": [
    "#ASSINGING SIZES FOR THE GUI USING INBUILT FUNCTIONS LIKE GEOMETRY, MINSIZE, MAXSIZE AND CREATING A LABEL\n",
    "\n",
    "#CREATE MAIN APPLICATION WINDOW\n",
    "root = tk.Tk()\n",
    "\n",
    "# WIDTHXHEIGHT\n",
    "root.geometry(\"500x500\")\n",
    "\n",
    "#WIDTH, HEIGHT\n",
    "root.minsize(200,200)\n",
    "\n",
    "#WIDTH, HEIGHT\n",
    "root.maxsize(1000,1000)\n",
    "\n",
    "#CREATE A LABEL\n",
    "label = tk.Label(text = \"THIS IS A LABEL\")\n",
    "label.pack()\n",
    "\n",
    "\n",
    "#START THE MAIN EVENT\n",
    "root.mainloop()"
   ]
  },
  {
   "cell_type": "code",
   "execution_count": 4,
   "id": "e5f273e3",
   "metadata": {},
   "outputs": [],
   "source": [
    "#INSERTING IMAGES IN GUI WINDOW USING TKINTER\n",
    "#--------------------------------------------------------->>\n",
    "#CREATE MAIN APPLICATION WINDOW\n",
    "root = tk.Tk()\n",
    "root.title(\"Tkinter with Image\")\n",
    "#--------------------------------------------------------->>\n",
    "#DEFINING SIZES FOR GUI WINDOW\n",
    "\n",
    "# WIDTHXHEIGHT\n",
    "root.geometry(\"500x500\")\n",
    "#WIDTH, HEIGHT\n",
    "root.minsize(200,200)\n",
    "#WIDTH, HEIGHT\n",
    "root.maxsize(1000,1000)\n",
    "#--------------------------------------------------------->>\n",
    "#CREATE A LABEL\n",
    "label = tk.Label(text = \"THIS IS A LABEL FOR PHOTO IMAGE\")\n",
    "label.pack()\n",
    "#--------------------------------------------------------->>\n",
    "#FOR JPG IMAGE\n",
    "image = Image.open(\"download_.gif.jpg\")\n",
    "photo = ImageTk.PhotoImage(image)\n",
    "image_label = tk.Label(image=photo)\n",
    "image_label.pack()\n",
    "#--------------------------------------------------------->>\n",
    "#START THE MAIN EVENT\n",
    "root.mainloop()"
   ]
  },
  {
   "cell_type": "code",
   "execution_count": 82,
   "id": "b72d73cd",
   "metadata": {},
   "outputs": [],
   "source": [
    "#THIS IS PRACTICE CODE\n",
    "root = tk.Tk()\n",
    "#-------------------------------------------------------->>\n",
    "root.geometry(\"820x620\")\n",
    "#-------------------------------------------------------->>\n",
    "root.title(\"READY TITLE\")\n",
    "#-------------------------------------------------------->>\n",
    "label=tk.Label(text=\"IM READY\", bg='red', fg='white', padx=5,pady=5, font=\"arail 10 bold\", borderwidth=2, relief=\"solid\")\n",
    "label.pack(side=\"bottom\",anchor=\"s\",fill=\"x\")\n",
    "#-------------------------------------------------------->>\n",
    "root.mainloop()"
   ]
  },
  {
   "cell_type": "code",
   "execution_count": 88,
   "id": "935304f7",
   "metadata": {},
   "outputs": [],
   "source": [
    "#FRAMES IN TKINTER \n",
    "#-------------------------------------------------------->>\n",
    "root = tk.Tk()\n",
    "root.title(\"THIS IS A PYCHARM WINDOW\")\n",
    "root.geometry(\"700x400\")\n",
    "#-------------------------------------------------------->>\n",
    "f1 = tk.Frame(root, borderwidth=8, bg=\"grey\", relief=\"sunken\")\n",
    "f1.pack(side=\"left\", fill=\"y\")\n",
    "l1 = tk.Label(f1, text=\"PROJECT TKINTER - PYCHARM\")\n",
    "l1.pack(pady=150)\n",
    "#-------------------------------------------------------->>\n",
    "f2 = tk.Frame(root, borderwidth=8, bg=\"grey\", relief=\"sunken\" )\n",
    "f2.pack(side=\"top\", fill=\"x\")\n",
    "l2 = tk.Label(f2, text=\"WELCOME TO SUBLIME TEXT\")\n",
    "l2.pack()\n",
    "#-------------------------------------------------------->>\n",
    "root.mainloop()"
   ]
  },
  {
   "cell_type": "code",
   "execution_count": 99,
   "id": "180cb198",
   "metadata": {},
   "outputs": [
    {
     "name": "stdout",
     "output_type": "stream",
     "text": [
      "HELLO TKINTER BUTTONS\n",
      "HELLO TKINTER BUTTONS\n",
      "MY NAME IS SAURABH\n",
      "MY NUMBER IS 7588553193\n",
      "MY ADDRESS IS PUNE\n"
     ]
    }
   ],
   "source": [
    "#BUTTONS IN TKINTER\n",
    "#-------------------------------------------------------->>\n",
    "root = tk.Tk()\n",
    "root.title(\"THIS A BUTTONS GUI\")\n",
    "root.geometry(\"600x600\")\n",
    "#-------------------------------------------------------->>\n",
    "def hello():\n",
    "    print(\"HELLO TKINTER BUTTONS\")\n",
    "def name():\n",
    "    print(\"MY NAME IS SAURABH\")\n",
    "def number():\n",
    "    print(\"MY NUMBER IS 7588553193\")\n",
    "def address():\n",
    "    print(\"MY ADDRESS IS PUNE\")\n",
    "#-------------------------------------------------------->>\n",
    "f1= tk.Frame(root, borderwidth=8, bg=\"grey\", relief=\"sunken\" )\n",
    "f1.pack(side=\"left\",anchor=\"nw\")\n",
    "button=tk.Button(f1,text=\"THIS A CLICK ME BUTTON\",bg=\"red\",fg=\"white\",command=hello)\n",
    "button.pack()\n",
    "#-------------------------------------------------------->>\n",
    "f2= tk.Frame(root, borderwidth=8, bg=\"grey\", relief=\"sunken\" )\n",
    "f2.pack(side=\"left\",anchor=\"nw\")\n",
    "button2=tk.Button(f1,text=\"TELL ME NAME NOW\",bg=\"red\",fg=\"white\",command=name)\n",
    "button2.pack()\n",
    "\n",
    "f3= tk.Frame(root, borderwidth=8, bg=\"grey\", relief=\"sunken\" )\n",
    "f3.pack(side=\"left\",anchor=\"nw\")\n",
    "button3=tk.Button(f1,text=\"TELL ME YOUR NUMBER\",bg=\"red\",fg=\"white\",command=number)\n",
    "button3.pack()\n",
    "\n",
    "f4= tk.Frame(root, borderwidth=8, bg=\"grey\", relief=\"sunken\" )\n",
    "f4.pack(side=\"left\",anchor=\"nw\")\n",
    "button4=tk.Button(f1,text=\"TELL ME YOUR ADDRESS\",bg=\"red\",fg=\"white\",command=address)\n",
    "button4.pack()\n",
    "\n",
    "root.mainloop()"
   ]
  },
  {
   "cell_type": "code",
   "execution_count": null,
   "id": "a35def99",
   "metadata": {},
   "outputs": [],
   "source": []
  }
 ],
 "metadata": {
  "kernelspec": {
   "display_name": "Python 3 (ipykernel)",
   "language": "python",
   "name": "python3"
  },
  "language_info": {
   "codemirror_mode": {
    "name": "ipython",
    "version": 3
   },
   "file_extension": ".py",
   "mimetype": "text/x-python",
   "name": "python",
   "nbconvert_exporter": "python",
   "pygments_lexer": "ipython3",
   "version": "3.8.13"
  }
 },
 "nbformat": 4,
 "nbformat_minor": 5
}
